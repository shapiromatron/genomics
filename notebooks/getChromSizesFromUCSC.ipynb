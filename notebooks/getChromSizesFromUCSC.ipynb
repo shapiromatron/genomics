{
 "cells": [
  {
   "cell_type": "code",
   "execution_count": 1,
   "metadata": {
    "collapsed": false
   },
   "outputs": [],
   "source": [
    "import mysql.connector\n",
    "import csv\n",
    "import os\n",
    "import sys"
   ]
  },
  {
   "cell_type": "code",
   "execution_count": 2,
   "metadata": {
    "collapsed": false
   },
   "outputs": [],
   "source": [
    "os.chdir(os.path.expanduser('~/genomics/project/analysis/workflow/validators/data/'))"
   ]
  },
  {
   "cell_type": "code",
   "execution_count": 3,
   "metadata": {
    "collapsed": false
   },
   "outputs": [],
   "source": [
    "cnx = mysql.connector.connect(\n",
    "    user='genome', \n",
    "    host='genome-mysql.cse.ucsc.edu',\n",
    ")\n",
    "cursor = cnx.cursor()\n",
    "cursor.execute('SHOW DATABASES')\n",
    "\n",
    "dbs = []\n",
    "for entry in cursor:\n",
    "   dbs.append(entry[0])\n",
    "# Remove first entry 'information_schema'\n",
    "dbs = dbs[1:]"
   ]
  },
  {
   "cell_type": "code",
   "execution_count": 4,
   "metadata": {
    "collapsed": false
   },
   "outputs": [
    {
     "name": "stdout",
     "output_type": "stream",
     "text": [
      "Error: 1146 (42S02): Table 'gbMeta.chromInfo' doesn't exist\n",
      "Error: 1146 (42S02): Table 'go.chromInfo' doesn't exist\n",
      "Error: 1146 (42S02): Table 'go080130.chromInfo' doesn't exist\n",
      "Error: 1146 (42S02): Table 'go140213.chromInfo' doesn't exist\n",
      "Error: 1146 (42S02): Table 'go150121.chromInfo' doesn't exist\n",
      "Error: 1146 (42S02): Table 'hgFixed.chromInfo' doesn't exist\n",
      "Error: 1146 (42S02): Table 'hgTemp.chromInfo' doesn't exist\n",
      "Error: 1146 (42S02): Table 'hgcentral.chromInfo' doesn't exist\n",
      "Error: 1146 (42S02): Table 'macEug1.chromInfo' doesn't exist\n",
      "Error: 1146 (42S02): Table 'oreNil1.chromInfo' doesn't exist\n",
      "Error: 1146 (42S02): Table 'performance_schema.chromInfo' doesn't exist\n",
      "Error: 1146 (42S02): Table 'proteins120806.chromInfo' doesn't exist\n",
      "Error: 1146 (42S02): Table 'proteins121210.chromInfo' doesn't exist\n",
      "Error: 1146 (42S02): Table 'proteins140122.chromInfo' doesn't exist\n",
      "Error: 1146 (42S02): Table 'proteins150225.chromInfo' doesn't exist\n",
      "Error: 1146 (42S02): Table 'proteome.chromInfo' doesn't exist\n",
      "Error: 1146 (42S02): Table 'sp120323.chromInfo' doesn't exist\n",
      "Error: 1146 (42S02): Table 'sp121210.chromInfo' doesn't exist\n",
      "Error: 1146 (42S02): Table 'sp140122.chromInfo' doesn't exist\n",
      "Error: 1146 (42S02): Table 'sp150225.chromInfo' doesn't exist\n",
      "Error: 1146 (42S02): Table 'test.chromInfo' doesn't exist\n",
      "Error: 1146 (42S02): Table 'uniProt.chromInfo' doesn't exist\n",
      "Error: 1146 (42S02): Table 'visiGene.chromInfo' doesn't exist\n"
     ]
    }
   ],
   "source": [
    "genome_assemblies = []\n",
    "\n",
    "for db in [db for db in dbs if 'Patch' not in db]:\n",
    "    cnx = mysql.connector.connect(\n",
    "        user='genome',\n",
    "        host='genome-mysql.cse.ucsc.edu',\n",
    "        database=db,\n",
    "    )\n",
    "    cursor = cnx.cursor()\n",
    "    try:\n",
    "        cursor.execute('SELECT chrom,size FROM chromInfo')\n",
    "    except mysql.connector.ProgrammingError as err:\n",
    "        print(\"Error: {}\".format(err))\n",
    "    else:\n",
    "        query_results = cursor.fetchall()\n",
    "\n",
    "        fp = open(db + '.chromSizes.txt', 'w')\n",
    "        chrom_sizes_file = csv.writer(fp, delimiter='\\t')\n",
    "        chrom_sizes_file.writerows(query_results)\n",
    "        fp.close()\n",
    "        \n",
    "        genome_assemblies.append(db)"
   ]
  },
  {
   "cell_type": "code",
   "execution_count": 5,
   "metadata": {
    "collapsed": true
   },
   "outputs": [],
   "source": [
    "for assembly in ['mm9', 'hg19']:\n",
    "    genome_assemblies.insert(0, genome_assemblies.pop(genome_assemblies.index(assembly)))"
   ]
  },
  {
   "cell_type": "code",
   "execution_count": null,
   "metadata": {
    "collapsed": true
   },
   "outputs": [],
   "source": []
  }
 ],
 "metadata": {
  "kernelspec": {
   "display_name": "Django Shell-Plus",
   "language": "python",
   "name": "django_extensions"
  },
  "language_info": {
   "codemirror_mode": {
    "name": "ipython",
    "version": 3
   },
   "file_extension": ".py",
   "mimetype": "text/x-python",
   "name": "python",
   "nbconvert_exporter": "python",
   "pygments_lexer": "ipython3",
   "version": "3.4.3"
  }
 },
 "nbformat": 4,
 "nbformat_minor": 0
}
